{
 "cells": [
  {
   "cell_type": "code",
   "execution_count": 1,
   "id": "a760c563",
   "metadata": {},
   "outputs": [
    {
     "name": "stdout",
     "output_type": "stream",
     "text": [
      "Collecting package metadata (repodata.json): done\n",
      "Solving environment: failed\n",
      "\n",
      "PackagesNotFoundError: The following packages are missing from the target environment:\n",
      "  - tensorflow\n",
      "\n",
      "\n"
     ]
    }
   ],
   "source": [
    "!conda uninstall tensorflow -y"
   ]
  },
  {
   "cell_type": "code",
   "execution_count": 2,
   "id": "251bf47d",
   "metadata": {},
   "outputs": [
    {
     "name": "stdout",
     "output_type": "stream",
     "text": [
      "Collecting package metadata (current_repodata.json): done\n",
      "Solving environment: failed with initial frozen solve. Retrying with flexible solve.\n",
      "Solving environment: failed with repodata from current_repodata.json, will retry with next repodata source.\n",
      "Collecting package metadata (repodata.json): done\n",
      "Solving environment: done\n",
      "\n",
      "## Package Plan ##\n",
      "\n",
      "  environment location: /Users/orentapiero/miniforge3/envs/tensorenv\n",
      "\n",
      "  added / updated specs:\n",
      "    - tensorflow\n",
      "\n",
      "\n",
      "The following packages will be downloaded:\n",
      "\n",
      "    package                    |            build\n",
      "    ---------------------------|-----------------\n",
      "    abseil-cpp-20210324.2      |       hbdafb3b_0         945 KB  conda-forge\n",
      "    gast-0.3.3                 |             py_0          12 KB  conda-forge\n",
      "    giflib-5.2.1               |       h27ca646_2          72 KB  conda-forge\n",
      "    grpc-cpp-1.37.1            |       h538f867_3         2.7 MB  conda-forge\n",
      "    grpcio-1.37.1              |   py38h69ee544_0         1.8 MB  conda-forge\n",
      "    h5py-2.10.0                |nompi_py38hb525b2d_106         965 KB  conda-forge\n",
      "    hdf5-1.10.6                |nompi_h0fc092c_1114         2.7 MB  conda-forge\n",
      "    icu-68.1                   |       h17758a7_0        13.1 MB  conda-forge\n",
      "    libprotobuf-3.15.8         |       hccf11d3_1         2.1 MB  conda-forge\n",
      "    protobuf-3.15.8            |   py38h6f2b01f_0         330 KB  conda-forge\n",
      "    python-flatbuffers-1.12    |     pyhd8ed1ab_1          19 KB  conda-forge\n",
      "    re2-2021.08.01             |       hbdafb3b_0         184 KB  conda-forge\n",
      "    snappy-1.1.8               |       hc88da5d_3          29 KB  conda-forge\n",
      "    tensorboard-2.4.1          |     pyhd8ed1ab_1         8.8 MB  conda-forge\n",
      "    tensorflow-2.4.1           |   py38h150bfb4_0          25 KB  conda-forge\n",
      "    tensorflow-base-2.4.1      |   py38h42c5233_0       103.2 MB  conda-forge\n",
      "    tensorflow-estimator-2.4.0 |     pyh9656e83_0         289 KB  conda-forge\n",
      "    ------------------------------------------------------------\n",
      "                                           Total:       137.3 MB\n",
      "\n",
      "The following NEW packages will be INSTALLED:\n",
      "\n",
      "  abseil-cpp         conda-forge/osx-arm64::abseil-cpp-20210324.2-hbdafb3b_0\n",
      "  giflib             conda-forge/osx-arm64::giflib-5.2.1-h27ca646_2\n",
      "  grpc-cpp           conda-forge/osx-arm64::grpc-cpp-1.37.1-h538f867_3\n",
      "  icu                conda-forge/osx-arm64::icu-68.1-h17758a7_0\n",
      "  re2                conda-forge/osx-arm64::re2-2021.08.01-hbdafb3b_0\n",
      "  snappy             conda-forge/osx-arm64::snappy-1.1.8-hc88da5d_3\n",
      "  tensorflow         conda-forge/osx-arm64::tensorflow-2.4.1-py38h150bfb4_0\n",
      "  tensorflow-base    conda-forge/osx-arm64::tensorflow-base-2.4.1-py38h42c5233_0\n",
      "\n",
      "The following packages will be DOWNGRADED:\n",
      "\n",
      "  gast                                   0.5.0-pyhd8ed1ab_0 --> 0.3.3-py_0\n",
      "  grpcio                              1.38.1-py38h69ee544_0 --> 1.37.1-py38h69ee544_0\n",
      "  h5py                         3.4.0-nompi_py38hacf61ce_100 --> 2.10.0-nompi_py38hb525b2d_106\n",
      "  hdf5                            1.12.1-nompi_had0e5e0_100 --> 1.10.6-nompi_h0fc092c_1114\n",
      "  libprotobuf                             3.17.2-hccf11d3_1 --> 3.15.8-hccf11d3_1\n",
      "  protobuf                            3.17.2-py38h6f2b01f_0 --> 3.15.8-py38h6f2b01f_0\n",
      "  python-flatbuffers                       2.0-pyhd8ed1ab_0 --> 1.12-pyhd8ed1ab_1\n",
      "  tensorboard                            2.6.0-pyhd8ed1ab_1 --> 2.4.1-pyhd8ed1ab_1\n",
      "  tensorflow-estima~                     2.5.0-pyh81a9013_1 --> 2.4.0-pyh9656e83_0\n",
      "\n",
      "\n",
      "\n",
      "Downloading and Extracting Packages\n",
      "tensorflow-estimator | 289 KB    | ##################################### | 100% \n",
      "grpc-cpp-1.37.1      | 2.7 MB    | ##################################### | 100% \n",
      "giflib-5.2.1         | 72 KB     | ##################################### | 100% \n",
      "python-flatbuffers-1 | 19 KB     | ##################################### | 100% \n",
      "icu-68.1             | 13.1 MB   | ##################################### | 100% \n",
      "tensorboard-2.4.1    | 8.8 MB    | ##################################### | 100% \n",
      "re2-2021.08.01       | 184 KB    | ##################################### | 100% \n",
      "snappy-1.1.8         | 29 KB     | ##################################### | 100% \n",
      "grpcio-1.37.1        | 1.8 MB    | ##################################### | 100% \n",
      "protobuf-3.15.8      | 330 KB    | ##################################### | 100% \n",
      "h5py-2.10.0          | 965 KB    | ##################################### | 100% \n",
      "abseil-cpp-20210324. | 945 KB    | ##################################### | 100% \n",
      "gast-0.3.3           | 12 KB     | ##################################### | 100% \n",
      "tensorflow-base-2.4. | 103.2 MB  | ##################################### | 100% \n",
      "tensorflow-2.4.1     | 25 KB     | ##################################### | 100% \n",
      "hdf5-1.10.6          | 2.7 MB    | ##################################### | 100% \n",
      "libprotobuf-3.15.8   | 2.1 MB    | ##################################### | 100% \n",
      "Preparing transaction: done\n",
      "Verifying transaction: done\n",
      "Executing transaction: done\n"
     ]
    }
   ],
   "source": [
    "!conda install tensorflow -y"
   ]
  },
  {
   "cell_type": "code",
   "execution_count": 3,
   "id": "e02cbb24",
   "metadata": {},
   "outputs": [],
   "source": [
    "import pandas as pd \n",
    "import numpy as np\n",
    "import matplotlib.pyplot as plt\n",
    "import seaborn as sns\n",
    "import yfinance as yf\n",
    "import plotly.graph_objects as go\n",
    "import json\n",
    "import requests\n",
    "import datetime\n",
    "import iso8601\n",
    "\n",
    "from datetime import datetime\n",
    "from tqdm import tqdm\n",
    "\n",
    "sns.set()\n",
    "plt.rcParams[\"figure.figsize\"] = (18,10)\n"
   ]
  },
  {
   "cell_type": "code",
   "execution_count": 4,
   "id": "7fc8c7e8",
   "metadata": {},
   "outputs": [],
   "source": [
    "eth = yf.Ticker(\"ETH-USD\")\n",
    "ETH = eth.history(period=\"max\")[['Open','High','Low','Close','Volume']]\n"
   ]
  },
  {
   "cell_type": "code",
   "execution_count": 5,
   "id": "9e41a9c5",
   "metadata": {},
   "outputs": [],
   "source": [
    "import math\n",
    "import tensorflow as tf\n",
    "from tensorflow.keras.models import Sequential\n",
    "from tensorflow.keras.layers import Dense\n",
    "from tensorflow.keras.layers import LSTM\n",
    "from tensorflow.keras.layers import Dropout\n",
    "from tensorflow.keras.layers import *\n",
    "\n",
    "from sklearn.preprocessing import MinMaxScaler\n",
    "from sklearn.metrics import mean_squared_error\n",
    "from sklearn.metrics import mean_absolute_error\n",
    "from sklearn.model_selection import train_test_split\n",
    "from tensorflow.keras.callbacks import EarlyStopping\n",
    "\n",
    "df=ETH.copy()"
   ]
  },
  {
   "cell_type": "code",
   "execution_count": 6,
   "id": "e971d4dd",
   "metadata": {},
   "outputs": [],
   "source": [
    "training_set = df.iloc[:800, 1:2].values\n",
    "test_set = df.iloc[800:, 1:2].values\n"
   ]
  },
  {
   "cell_type": "code",
   "execution_count": 7,
   "id": "406eea0b",
   "metadata": {},
   "outputs": [],
   "source": [
    "sc = MinMaxScaler(feature_range = (0, 1))\n",
    "training_set_scaled = sc.fit_transform(training_set)\n",
    "# Creating a data structure with 60 time-steps and 1 output\n",
    "X_train = []\n",
    "y_train = []\n",
    "\n",
    "for i in range(60, 800):\n",
    "    X_train.append(training_set_scaled[i-60:i, 0])\n",
    "    y_train.append(training_set_scaled[i, 0])\n",
    "    \n",
    "X_train, y_train = np.array(X_train), np.array(y_train)\n",
    "X_train = np.reshape(X_train, (X_train.shape[0], X_train.shape[1], 1))\n",
    "#(740, 60, 1)\n"
   ]
  },
  {
   "cell_type": "code",
   "execution_count": null,
   "id": "8831983e",
   "metadata": {},
   "outputs": [],
   "source": [
    "model = Sequential()\n",
    "#Adding the first LSTM layer and some Dropout regularisation\n",
    "model.add(LSTM(units = 50, return_sequences = True))#, input_shape = (X_train.shape[1], 1)))\n",
    "model.add(Dropout(0.2))\n",
    "# Adding a second LSTM layer and some Dropout regularisation\n",
    "model.add(LSTM(units = 50, return_sequences = True))\n",
    "model.add(Dropout(0.2))\n",
    "# Adding a third LSTM layer and some Dropout regularisation\n",
    "model.add(LSTM(units = 50, return_sequences = True))\n",
    "model.add(Dropout(0.2))\n",
    "# Adding a fourth LSTM layer and some Dropout regularisation\n",
    "model.add(LSTM(units = 50))\n",
    "model.add(Dropout(0.2))\n",
    "# Adding the output layer\n",
    "model.add(Dense(units = 1))\n",
    "\n",
    "# Compiling the RNN\n",
    "model.compile(optimizer = 'adam', loss = 'mean_squared_error')\n",
    "\n",
    "# Fitting the RNN to the Training set\n",
    "model.fit(X_train, y_train, epochs = 100, batch_size = 32)\n"
   ]
  },
  {
   "cell_type": "code",
   "execution_count": null,
   "id": "779f0030",
   "metadata": {},
   "outputs": [],
   "source": []
  }
 ],
 "metadata": {
  "jupytext": {
   "formats": "ipynb,auto:light"
  },
  "kernelspec": {
   "display_name": "Python 3.8.10 64-bit ('tensorenv': conda)",
   "language": "python",
   "name": "python3810jvsc74a57bd0dcde5faee8b385ecec096869b2a4aa0a7dae93516ac2ea162297a4c24d713520"
  },
  "language_info": {
   "codemirror_mode": {
    "name": "ipython",
    "version": 3
   },
   "file_extension": ".py",
   "mimetype": "text/x-python",
   "name": "python",
   "nbconvert_exporter": "python",
   "pygments_lexer": "ipython3",
   "version": "3.8.10"
  },
  "varInspector": {
   "cols": {
    "lenName": 16,
    "lenType": 16,
    "lenVar": 40
   },
   "kernels_config": {
    "python": {
     "delete_cmd_postfix": "",
     "delete_cmd_prefix": "del ",
     "library": "var_list.py",
     "varRefreshCmd": "print(var_dic_list())"
    },
    "r": {
     "delete_cmd_postfix": ") ",
     "delete_cmd_prefix": "rm(",
     "library": "var_list.r",
     "varRefreshCmd": "cat(var_dic_list()) "
    }
   },
   "types_to_exclude": [
    "module",
    "function",
    "builtin_function_or_method",
    "instance",
    "_Feature"
   ],
   "window_display": false
  }
 },
 "nbformat": 4,
 "nbformat_minor": 5
}
