{
 "cells": [
  {
   "cell_type": "code",
   "execution_count": 1,
   "id": "21f5fbf5",
   "metadata": {
    "ExecuteTime": {
     "end_time": "2021-09-16T15:02:56.075721Z",
     "start_time": "2021-09-16T15:02:55.557778Z"
    }
   },
   "outputs": [],
   "source": [
    "import pandas as pd \n",
    "import numpy as np\n",
    "import matplotlib.pyplot as plt\n",
    "import seaborn as sns\n",
    "import yfinance as yf\n",
    "import plotly.graph_objects as go\n",
    "import json\n",
    "import requests\n",
    "import datetime\n",
    "import iso8601\n",
    "\n",
    "from datetime import datetime\n",
    "from tqdm import tqdm\n",
    "\n",
    "sns.set()\n",
    "plt.rcParams[\"figure.figsize\"] = (18,10)\n"
   ]
  },
  {
   "cell_type": "code",
   "execution_count": 2,
   "id": "71ac7014",
   "metadata": {
    "ExecuteTime": {
     "end_time": "2021-09-16T15:03:16.035979Z",
     "start_time": "2021-09-16T15:03:16.031970Z"
    }
   },
   "outputs": [],
   "source": [
    "def ohlc_plot(df,start = '2018',end = '2021',Log = False):\n",
    "    if Log:\n",
    "        fig = go.Figure(data=[go.Candlestick(x=df.loc[start:end].index,\n",
    "                        open=np.log(df.Open.loc[start:end]),\n",
    "                        high=np.log(df.High.loc[start:end]),\n",
    "                        low=np.log(df.Low.loc[start:end]),\n",
    "                        close=np.log(df.Close.loc[start:end]))])\n",
    "    else:\n",
    "        fig = go.Figure(data=[go.Candlestick(x=df.loc[start:end].index,\n",
    "                        open=(df.Open.loc[start:end]),\n",
    "                        high=(df.High.loc[start:end]),\n",
    "                        low=(df.Low.loc[start:end]),\n",
    "                        close=(df.Close.loc[start:end]))])\n",
    "\n",
    "\n",
    "    fig.update_layout(xaxis_rangeslider_visible=False)\n",
    "    fig.show()\n",
    "    return\n",
    "    "
   ]
  },
  {
   "cell_type": "code",
   "execution_count": null,
   "id": "f4142e19",
   "metadata": {
    "ExecuteTime": {
     "start_time": "2021-09-16T15:03:16.623Z"
    }
   },
   "outputs": [],
   "source": [
    "eth = yf.Ticker(\"ETH-USD\")\n",
    "data = eth.history(period=\"max\")[['Open','High','Low','Close','Volume']]\n",
    "data = data.reset_index()"
   ]
  },
  {
   "cell_type": "code",
   "execution_count": null,
   "id": "98a95575",
   "metadata": {
    "ExecuteTime": {
     "start_time": "2021-09-16T15:03:17.313Z"
    }
   },
   "outputs": [],
   "source": [
    "import math\n",
    "import matplotlib.pyplot as plt\n",
    "import tensorflow as tf\n",
    "\n",
    "import pandas as pd\n",
    "import numpy as np\n",
    "from tensorflow.keras.models import Sequential\n",
    "from tensorflow.keras.layers import Dense\n",
    "from tensorflow.keras.layers import LSTM\n",
    "from tensorflow.keras.layers import Dropout\n",
    "from tensorflow.keras.layers import *\n",
    "from sklearn.preprocessing import MinMaxScaler\n",
    "from sklearn.metrics import mean_squared_error\n",
    "from sklearn.metrics import mean_absolute_error\n",
    "from sklearn.model_selection import train_test_split\n",
    "from tensorflow.keras.callbacks import EarlyStopping\n",
    "\n",
    "import tensorflow as tf\n",
    "print(\"Num GPUs Available: \", len(tf.config.list_physical_devices('GPU')))\n"
   ]
  },
  {
   "cell_type": "code",
   "execution_count": null,
   "id": "81fd0a6d",
   "metadata": {
    "ExecuteTime": {
     "end_time": "2021-09-16T14:45:21.038182Z",
     "start_time": "2021-09-16T14:45:21.034477Z"
    }
   },
   "outputs": [],
   "source": [
    "training_set = data.iloc[:800, 1:2].values\n",
    "test_set = data.iloc[800:, 1:2].values\n"
   ]
  },
  {
   "cell_type": "code",
   "execution_count": null,
   "id": "47b0533a",
   "metadata": {
    "ExecuteTime": {
     "end_time": "2021-09-16T14:45:21.053017Z",
     "start_time": "2021-09-16T14:45:21.041464Z"
    }
   },
   "outputs": [],
   "source": [
    "sc = MinMaxScaler(feature_range = (0, 1))\n",
    "training_set_scaled = sc.fit_transform(training_set)\n",
    "# Creating a data structure with 60 time-steps and 1 output\n",
    "X_train = []\n",
    "y_train = []\n",
    "\n",
    "for i in range(60, 800):\n",
    "    X_train.append(training_set_scaled[i-60:i, 0])\n",
    "    y_train.append(training_set_scaled[i, 0])\n",
    "    \n",
    "X_train, y_train = np.array(X_train), np.array(y_train)\n",
    "X_train = np.reshape(X_train, (X_train.shape[0], X_train.shape[1], 1))\n"
   ]
  },
  {
   "cell_type": "code",
   "execution_count": null,
   "id": "e0d7974f",
   "metadata": {
    "ExecuteTime": {
     "start_time": "2021-09-16T14:40:59.315Z"
    }
   },
   "outputs": [],
   "source": [
    "model = Sequential()\n",
    "#Adding the first LSTM layer and some Dropout regularisation\n",
    "model.add(LSTM(units = 50, return_sequences = True, input_shape = (X_train.shape[1], 1)))\n",
    "model.add(Dropout(0.2))\n",
    "# Adding a second LSTM layer and some Dropout regularisation\n",
    "model.add(LSTM(units = 50, return_sequences = True))\n",
    "model.add(Dropout(0.2))\n",
    "# Adding a third LSTM layer and some Dropout regularisation\n",
    "model.add(LSTM(units = 50, return_sequences = True))\n",
    "model.add(Dropout(0.2))\n",
    "# Adding a fourth LSTM layer and some Dropout regularisation\n",
    "model.add(LSTM(units = 50))\n",
    "model.add(Dropout(0.2))\n",
    "# Adding the output layer\n",
    "model.add(Dense(units = 1))\n",
    "\n",
    "# Compiling the RNN\n",
    "model.compile(optimizer = 'adam', loss = 'mean_squared_error')\n",
    "\n",
    "# Fitting the RNN to the Training set\n",
    "model.fit(X_train, y_train, epochs = 100, batch_size = 32)\n"
   ]
  },
  {
   "cell_type": "code",
   "execution_count": null,
   "id": "cabd907f",
   "metadata": {},
   "outputs": [],
   "source": []
  }
 ],
 "metadata": {
  "kernelspec": {
   "display_name": "Python 3 (ipykernel)",
   "language": "python",
   "name": "python3"
  },
  "language_info": {
   "codemirror_mode": {
    "name": "ipython",
    "version": 3
   },
   "file_extension": ".py",
   "mimetype": "text/x-python",
   "name": "python",
   "nbconvert_exporter": "python",
   "pygments_lexer": "ipython3",
   "version": "3.8.11"
  },
  "latex_envs": {
   "LaTeX_envs_menu_present": true,
   "autoclose": false,
   "autocomplete": true,
   "bibliofile": "biblio.bib",
   "cite_by": "apalike",
   "current_citInitial": 1,
   "eqLabelWithNumbers": true,
   "eqNumInitial": 1,
   "hotkeys": {
    "equation": "Ctrl-E",
    "itemize": "Ctrl-I"
   },
   "labels_anchors": false,
   "latex_user_defs": false,
   "report_style_numbering": false,
   "user_envs_cfg": false
  }
 },
 "nbformat": 4,
 "nbformat_minor": 5
}
