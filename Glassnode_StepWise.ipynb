{
 "cells": [
  {
   "cell_type": "code",
   "execution_count": 3,
   "source": [
    "import pandas as pd\n",
    "import numpy as np\n",
    "import matplotlib.pyplot as plt\n",
    "import pickle\n",
    "import warnings\n",
    "\n",
    "from pandas.core.frame import DataFrame\n",
    "from glassnode import *\n",
    "from tqdm import tqdm\n",
    "from utilities import ohlc_plot\n",
    "\n",
    "warnings.filterwarnings('ignore')\n",
    "pd.set_option('display.max_rows', None)\n"
   ],
   "outputs": [],
   "metadata": {
    "ExecuteTime": {
     "end_time": "2021-08-19T11:39:55.110518Z",
     "start_time": "2021-08-19T11:39:54.158226Z"
    }
   }
  },
  {
   "cell_type": "code",
   "execution_count": 4,
   "source": [
    "GLASSNODE_API_KEY = '1vUcyF35hTk9awbNGszF0KcLuYH'\n",
    "\n",
    "self = GlassnodeClient()\n",
    "self.set_api_key(GLASSNODE_API_KEY)\n",
    "\n",
    "\n",
    "Metrics = {'Indicators':Indicators,\n",
    "           'Market':Market,\n",
    "           'Mining':Mining,\n",
    "           'Supply':Supply}\n",
    "\n",
    "\n",
    "DataDict = {}\n",
    "series = {}\n",
    "dataframes = {}\n",
    "catalog = {}\n",
    "\n",
    "for group in Metrics:\n",
    "    DataDict[group] = {}\n",
    "    series[group] = []\n",
    "    dataframes[group] = []\n",
    "    catalog[group] = []"
   ],
   "outputs": [],
   "metadata": {
    "ExecuteTime": {
     "end_time": "2021-08-19T11:39:55.204585Z",
     "start_time": "2021-08-19T11:39:55.199147Z"
    }
   }
  },
  {
   "cell_type": "code",
   "execution_count": 5,
   "source": [
    "for group in tqdm(list(Metrics.keys())):\n",
    "    \n",
    "    metric = Metrics[group]\n",
    "\n",
    "    for m in metric:\n",
    "        df = pd.DataFrame()\n",
    "        \n",
    "        url = URLS[group] + m\n",
    "        a ='BTC'\n",
    "        c = 'native'\n",
    "        i='24h'\n",
    "\n",
    "        df = self.get(url,a,i,c)\n",
    "        \n",
    "        if isinstance(df,pd.DataFrame):\n",
    "            dataframes[group].append(m)\n",
    "        else:\n",
    "            series[group].append(m)\n",
    "            \n",
    "        DataDict[group][m] = df\n",
    "        \n",
    "        try:\n",
    "            start_date = df.index[0].strftime('%Y-%m-%d')\n",
    "            end_date = df.index[-1].strftime('%Y-%m-%d')\n",
    "            \n",
    "            if isinstance(df,pd.DataFrame):\n",
    "                N_NaNs = df.iloc[:,0].isna().sum()\n",
    "            else:\n",
    "                N_NaNs = df.isna().sum()\n",
    "                \n",
    "        except:\n",
    "            start_date,end_date,N_NaNs\n",
    "            \n",
    "        catalog[group].append({'Name':m,'start_date':start_date,'end_date':end_date,'N_NaNs':N_NaNs})\n",
    "        \n",
    "    catalog[group] = pd.DataFrame(catalog[group])"
   ],
   "outputs": [
    {
     "output_type": "stream",
     "name": "stderr",
     "text": [
      "  0%|          | 0/4 [00:00<?, ?it/s]"
     ]
    }
   ],
   "metadata": {
    "ExecuteTime": {
     "end_time": "2021-08-19T11:45:12.745068Z",
     "start_time": "2021-08-19T11:39:55.298338Z"
    }
   }
  },
  {
   "cell_type": "code",
   "execution_count": null,
   "source": [
    "pd.set_option('display.max_rows', None)\n",
    "\n",
    "catalog['Supply']"
   ],
   "outputs": [],
   "metadata": {
    "ExecuteTime": {
     "end_time": "2021-08-19T11:48:59.933993Z",
     "start_time": "2021-08-19T11:48:59.906035Z"
    }
   }
  },
  {
   "cell_type": "code",
   "execution_count": null,
   "source": [],
   "outputs": [],
   "metadata": {}
  }
 ],
 "metadata": {
  "kernelspec": {
   "name": "python3",
   "display_name": "Python 3.8.10 64-bit ('tensorenv': conda)"
  },
  "language_info": {
   "name": "python",
   "version": "3.8.10",
   "mimetype": "text/x-python",
   "codemirror_mode": {
    "name": "ipython",
    "version": 3
   },
   "pygments_lexer": "ipython3",
   "nbconvert_exporter": "python",
   "file_extension": ".py"
  },
  "varInspector": {
   "cols": {
    "lenName": 16,
    "lenType": 16,
    "lenVar": 40
   },
   "kernels_config": {
    "python": {
     "delete_cmd_postfix": "",
     "delete_cmd_prefix": "del ",
     "library": "var_list.py",
     "varRefreshCmd": "print(var_dic_list())"
    },
    "r": {
     "delete_cmd_postfix": ") ",
     "delete_cmd_prefix": "rm(",
     "library": "var_list.r",
     "varRefreshCmd": "cat(var_dic_list()) "
    }
   },
   "position": {
    "height": "657.727px",
    "left": "1483.99px",
    "right": "20px",
    "top": "120px",
    "width": "226.009px"
   },
   "types_to_exclude": [
    "module",
    "function",
    "builtin_function_or_method",
    "instance",
    "_Feature"
   ],
   "window_display": false
  },
  "interpreter": {
   "hash": "dcde5faee8b385ecec096869b2a4aa0a7dae93516ac2ea162297a4c24d713520"
  }
 },
 "nbformat": 4,
 "nbformat_minor": 2
}