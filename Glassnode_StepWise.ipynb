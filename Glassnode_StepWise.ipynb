{
 "cells": [
  {
   "cell_type": "code",
   "execution_count": 1,
   "source": [
    "import pandas as pd\r\n",
    "import numpy as np\r\n",
    "import matplotlib.pyplot as plt\r\n",
    "import pickle\r\n",
    "import warnings\r\n",
    "\r\n",
    "from pandas.core.frame import DataFrame\r\n",
    "from glassnode import *\r\n",
    "from tqdm import tqdm\r\n",
    "from utilities import ohlc_plot\r\n",
    "\r\n",
    "warnings.filterwarnings('ignore')\r\n",
    "pd.set_option('display.max_rows', None)\r\n"
   ],
   "outputs": [
    {
     "output_type": "error",
     "ename": "ModuleNotFoundError",
     "evalue": "No module named 'tqdm'",
     "traceback": [
      "\u001b[1;31m---------------------------------------------------------------------------\u001b[0m",
      "\u001b[1;31mModuleNotFoundError\u001b[0m                       Traceback (most recent call last)",
      "\u001b[1;32m<ipython-input-1-f967daf4b6ed>\u001b[0m in \u001b[0;36m<module>\u001b[1;34m\u001b[0m\n\u001b[0;32m      7\u001b[0m \u001b[1;32mfrom\u001b[0m \u001b[0mpandas\u001b[0m\u001b[1;33m.\u001b[0m\u001b[0mcore\u001b[0m\u001b[1;33m.\u001b[0m\u001b[0mframe\u001b[0m \u001b[1;32mimport\u001b[0m \u001b[0mDataFrame\u001b[0m\u001b[1;33m\u001b[0m\u001b[1;33m\u001b[0m\u001b[0m\n\u001b[0;32m      8\u001b[0m \u001b[1;32mfrom\u001b[0m \u001b[0mglassnode\u001b[0m \u001b[1;32mimport\u001b[0m \u001b[1;33m*\u001b[0m\u001b[1;33m\u001b[0m\u001b[1;33m\u001b[0m\u001b[0m\n\u001b[1;32m----> 9\u001b[1;33m \u001b[1;32mfrom\u001b[0m \u001b[0mtqdm\u001b[0m \u001b[1;32mimport\u001b[0m \u001b[0mtqdm\u001b[0m\u001b[1;33m\u001b[0m\u001b[1;33m\u001b[0m\u001b[0m\n\u001b[0m\u001b[0;32m     10\u001b[0m \u001b[1;32mfrom\u001b[0m \u001b[0mutilities\u001b[0m \u001b[1;32mimport\u001b[0m \u001b[0mohlc_plot\u001b[0m\u001b[1;33m\u001b[0m\u001b[1;33m\u001b[0m\u001b[0m\n\u001b[0;32m     11\u001b[0m \u001b[1;33m\u001b[0m\u001b[0m\n",
      "\u001b[1;31mModuleNotFoundError\u001b[0m: No module named 'tqdm'"
     ]
    }
   ],
   "metadata": {
    "ExecuteTime": {
     "end_time": "2021-08-19T11:39:55.110518Z",
     "start_time": "2021-08-19T11:39:54.158226Z"
    }
   }
  },
  {
   "cell_type": "code",
   "execution_count": null,
   "source": [
    "GLASSNODE_API_KEY = '1vUcyF35hTk9awbNGszF0KcLuYH'\r\n",
    "\r\n",
    "self = GlassnodeClient()\r\n",
    "self.set_api_key(GLASSNODE_API_KEY)\r\n",
    "\r\n",
    "\r\n",
    "Metrics = {'Indicators':Indicators,\r\n",
    "           'Market':Market,\r\n",
    "           'Mining':Mining,\r\n",
    "           'Supply':Supply}\r\n",
    "\r\n",
    "\r\n",
    "DataDict = {}\r\n",
    "series = {}\r\n",
    "dataframes = {}\r\n",
    "catalog = {}\r\n",
    "\r\n",
    "for group in Metrics:\r\n",
    "    DataDict[group] = {}\r\n",
    "    series[group] = []\r\n",
    "    dataframes[group] = []\r\n",
    "    catalog[group] = []"
   ],
   "outputs": [],
   "metadata": {
    "ExecuteTime": {
     "end_time": "2021-08-19T11:39:55.204585Z",
     "start_time": "2021-08-19T11:39:55.199147Z"
    }
   }
  },
  {
   "cell_type": "code",
   "execution_count": null,
   "source": [
    "for group in tqdm(list(Metrics.keys())):\r\n",
    "    \r\n",
    "    metric = Metrics[group]\r\n",
    "\r\n",
    "    for m in metric:\r\n",
    "        df = pd.DataFrame()\r\n",
    "        \r\n",
    "        url = URLS[group] + m\r\n",
    "        a ='BTC'\r\n",
    "        c = 'native'\r\n",
    "        i='24h'\r\n",
    "\r\n",
    "        df = self.get(url,a,i,c)\r\n",
    "        \r\n",
    "        if isinstance(df,pd.DataFrame):\r\n",
    "            dataframes[group].append(m)\r\n",
    "        else:\r\n",
    "            series[group].append(m)\r\n",
    "            \r\n",
    "        DataDict[group][m] = df\r\n",
    "        \r\n",
    "        try:\r\n",
    "            start_date = df.index[0].strftime('%Y-%m-%d')\r\n",
    "            end_date = df.index[-1].strftime('%Y-%m-%d')\r\n",
    "            \r\n",
    "            if isinstance(df,pd.DataFrame):\r\n",
    "                N_NaNs = df.iloc[:,0].isna().sum()\r\n",
    "            else:\r\n",
    "                N_NaNs = df.isna().sum()\r\n",
    "                \r\n",
    "        except:\r\n",
    "            start_date,end_date,N_NaNs\r\n",
    "            \r\n",
    "        catalog[group].append({'Name':m,'start_date':start_date,'end_date':end_date,'N_NaNs':N_NaNs})\r\n",
    "        \r\n",
    "    catalog[group] = pd.DataFrame(catalog[group])"
   ],
   "outputs": [],
   "metadata": {
    "ExecuteTime": {
     "end_time": "2021-08-19T11:45:12.745068Z",
     "start_time": "2021-08-19T11:39:55.298338Z"
    }
   }
  },
  {
   "cell_type": "code",
   "execution_count": null,
   "source": [
    "pd.set_option('display.max_rows', None)\r\n",
    "\r\n",
    "catalog['Supply']"
   ],
   "outputs": [],
   "metadata": {
    "ExecuteTime": {
     "end_time": "2021-08-19T11:48:59.933993Z",
     "start_time": "2021-08-19T11:48:59.906035Z"
    }
   }
  },
  {
   "cell_type": "code",
   "execution_count": null,
   "source": [],
   "outputs": [],
   "metadata": {}
  }
 ],
 "metadata": {
  "kernelspec": {
   "name": "python3",
   "display_name": "Python 3.9.5 64-bit ('spyder': conda)"
  },
  "language_info": {
   "name": "python",
   "version": "3.9.5",
   "mimetype": "text/x-python",
   "codemirror_mode": {
    "name": "ipython",
    "version": 3
   },
   "pygments_lexer": "ipython3",
   "nbconvert_exporter": "python",
   "file_extension": ".py"
  },
  "varInspector": {
   "cols": {
    "lenName": 16,
    "lenType": 16,
    "lenVar": 40
   },
   "kernels_config": {
    "python": {
     "delete_cmd_postfix": "",
     "delete_cmd_prefix": "del ",
     "library": "var_list.py",
     "varRefreshCmd": "print(var_dic_list())"
    },
    "r": {
     "delete_cmd_postfix": ") ",
     "delete_cmd_prefix": "rm(",
     "library": "var_list.r",
     "varRefreshCmd": "cat(var_dic_list()) "
    }
   },
   "position": {
    "height": "657.727px",
    "left": "1483.99px",
    "right": "20px",
    "top": "120px",
    "width": "226.009px"
   },
   "types_to_exclude": [
    "module",
    "function",
    "builtin_function_or_method",
    "instance",
    "_Feature"
   ],
   "window_display": false
  },
  "interpreter": {
   "hash": "c2302bcc521c0848b07edd258f74309b07c84829c9131e1be3defe5a504307fb"
  }
 },
 "nbformat": 4,
 "nbformat_minor": 2
}