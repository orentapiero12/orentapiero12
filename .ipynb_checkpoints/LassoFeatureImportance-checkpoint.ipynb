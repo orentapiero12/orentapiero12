{
 "cells": [
  {
   "cell_type": "code",
   "execution_count": 43,
   "id": "c2ff6a6b",
   "metadata": {
    "ExecuteTime": {
     "end_time": "2021-09-09T15:03:38.158368Z",
     "start_time": "2021-09-09T15:03:38.154062Z"
    }
   },
   "outputs": [],
   "source": [
    "import numpy as np\n",
    "import pandas as pd\n",
    "import matplotlib.pyplot as plt\n",
    "import seaborn as sns\n",
    "\n",
    "from tqdm import tqdm\n",
    "from sklearn.preprocessing import StandardScaler\n",
    "from sklearn.pipeline import Pipeline\n",
    "from sklearn.model_selection import train_test_split, GridSearchCV\n",
    "from sklearn.linear_model import Lasso"
   ]
  },
  {
   "cell_type": "code",
   "execution_count": 49,
   "id": "e4f291d9",
   "metadata": {
    "ExecuteTime": {
     "end_time": "2021-09-09T15:07:44.099952Z",
     "start_time": "2021-09-09T15:07:44.085913Z"
    }
   },
   "outputs": [],
   "source": [
    "class LassoFeatImportance(object):\n",
    "    \n",
    "    def __init__(self,df):\n",
    "        self.df = df\n",
    "    \n",
    "    def yX_split(self,y_colname,X_colnames):\n",
    "        self.y_colname = y_colname\n",
    "        self.X_colnames = X_colnames\n",
    "        self.y = self.df[y_colname]\n",
    "        self.X = self.df[X_colnames]\n",
    "        return \n",
    "    \n",
    "    def train_test(self,test_size = 0.33,random_state = 42):\n",
    "        X_train, X_test, y_train, y_test = train_test_split(self.X, self.y, test_size=test_size, random_state=random_state)\n",
    "        self.X_train = X_train\n",
    "        self.X_test = X_test\n",
    "        self.y_train = y_train\n",
    "        self.y_test = y_test\n",
    "        return\n",
    "\n",
    "    def gridSearch(self,alpha_lb = 0.1,alpha_ub = 10,step = 0.1,cv = 5,verbose = 3):\n",
    "        step_0 = ('scaler',StandardScaler())\n",
    "        step_1 = ('model',Lasso())\n",
    "        \n",
    "        pipeline = Pipeline([step_0,step_1])\n",
    "        \n",
    "        self.model_alpha = np.arange(alpha_lb,alpha_ub,step)\n",
    "        self.cv = cv\n",
    "        self.verbose = verbose\n",
    "        \n",
    "        input_dict = {'model__alpha':self.model_alpha}\n",
    "        \n",
    "        search = GridSearchCV(pipeline,\n",
    "                              input_dict,\n",
    "                              cv=cv,\n",
    "                              scoring='neg_mean_squared_error',\n",
    "                              verbose = verbose)\n",
    "        \n",
    "        search.fit(self.X_train,self.y_train)\n",
    "        self.search = search\n",
    "        return\n",
    "\n",
    "\n",
    "    def results(self):\n",
    "        coefficients = self.search.best_estimator_.named_steps['model'].coef_\n",
    "        importance = np.abs(coefficients)\n",
    "        self.accepted = np.array(self.X_colnames)[importance > 0]\n",
    "        self.rejected = np.array(self.X_colnames)[importance == 0]\n",
    "        return\n",
    "    \n",
    "    def print_accepted(self):\n",
    "        print('Accepted Features:',self.accepted)\n",
    "        print('Rejected Features:',self.rejected)\n",
    "        return "
   ]
  },
  {
   "cell_type": "code",
   "execution_count": 45,
   "id": "8fe9f074",
   "metadata": {
    "ExecuteTime": {
     "end_time": "2021-09-09T15:03:40.018456Z",
     "start_time": "2021-09-09T15:03:39.985692Z"
    }
   },
   "outputs": [],
   "source": [
    "from sklearn.datasets import load_diabetes\n",
    "X,y = load_diabetes(return_X_y=True)\n",
    "\n",
    "features = load_diabetes()['feature_names']\n",
    "\n",
    "X = pd.DataFrame(X,columns = features)\n",
    "y = pd.Series(y,name = 'y')\n",
    "df = pd.concat([y,X],axis = 1)\n",
    "\n"
   ]
  },
  {
   "cell_type": "code",
   "execution_count": 52,
   "id": "302e33a0",
   "metadata": {
    "ExecuteTime": {
     "end_time": "2021-09-09T15:08:20.751652Z",
     "start_time": "2021-09-09T15:08:19.898930Z"
    }
   },
   "outputs": [
    {
     "name": "stdout",
     "output_type": "stream",
     "text": [
      "Accepted Features: ['age' 'sex' 'bmi' 'bp' 's1' 's3' 's5']\n",
      "Rejected Features: ['s2' 's4' 's6']\n"
     ]
    }
   ],
   "source": [
    "y_colname = 'y'\n",
    "X_colnames = df.loc[:,df.columns!='y'].columns\n",
    "\n",
    "self = LassoFeatImportance(df = df)\n",
    "self.yX_split(y_colname,X_colnames)\n",
    "self.train_test()\n",
    "self.gridSearch(alpha_lb = 0.1,alpha_ub = 10,step = 0.1,cv = 5,verbose = 0)\n",
    "self.results()\n",
    "self.print_accepted()"
   ]
  }
 ],
 "metadata": {
  "kernelspec": {
   "display_name": "Python 3.8.10 64-bit ('tensorenv': conda)",
   "language": "python",
   "name": "python3810jvsc74a57bd0dcde5faee8b385ecec096869b2a4aa0a7dae93516ac2ea162297a4c24d713520"
  },
  "language_info": {
   "codemirror_mode": {
    "name": "ipython",
    "version": 3
   },
   "file_extension": ".py",
   "mimetype": "text/x-python",
   "name": "python",
   "nbconvert_exporter": "python",
   "pygments_lexer": "ipython3",
   "version": "3.8.10"
  }
 },
 "nbformat": 4,
 "nbformat_minor": 5
}
