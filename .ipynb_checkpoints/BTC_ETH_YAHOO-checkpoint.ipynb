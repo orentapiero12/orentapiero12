{
 "cells": [
  {
   "cell_type": "code",
   "execution_count": 1,
   "id": "89636639",
   "metadata": {
    "ExecuteTime": {
     "end_time": "2021-08-23T07:06:06.510490Z",
     "start_time": "2021-08-23T07:06:05.523560Z"
    }
   },
   "outputs": [],
   "source": [
    "import pandas as pd \n",
    "import numpy as np\n",
    "import matplotlib.pyplot as plt\n",
    "import seaborn as sns\n",
    "import yfinance as yf\n",
    "import plotly.graph_objects as go\n",
    "import json\n",
    "import requests\n",
    "import datetime\n",
    "import iso8601\n",
    "\n",
    "from datetime import datetime\n",
    "from tqdm import tqdm\n",
    "\n",
    "sns.set()\n",
    "plt.rcParams[\"figure.figsize\"] = (18,10)\n"
   ]
  },
  {
   "cell_type": "markdown",
   "id": "e1ba1bf4",
   "metadata": {},
   "source": [
    "## Functions and classes"
   ]
  },
  {
   "cell_type": "code",
   "execution_count": 2,
   "id": "75a6647d",
   "metadata": {
    "ExecuteTime": {
     "end_time": "2021-08-23T07:06:06.697652Z",
     "start_time": "2021-08-23T07:06:06.690669Z"
    },
    "code_folding": []
   },
   "outputs": [],
   "source": [
    "def ohlc_plot(df,start = '2018',end = '2021',Log = False):\n",
    "    if Log:\n",
    "        fig = go.Figure(data=[go.Candlestick(x=df.loc[start:end].index,\n",
    "                        open=np.log(df.Open.loc[start:end]),\n",
    "                        high=np.log(df.High.loc[start:end]),\n",
    "                        low=np.log(df.Low.loc[start:end]),\n",
    "                        close=np.log(df.Close.loc[start:end]))])\n",
    "    else:\n",
    "        fig = go.Figure(data=[go.Candlestick(x=df.loc[start:end].index,\n",
    "                        open=(df.Open.loc[start:end]),\n",
    "                        high=(df.High.loc[start:end]),\n",
    "                        low=(df.Low.loc[start:end]),\n",
    "                        close=(df.Close.loc[start:end]))])\n",
    "\n",
    "\n",
    "    fig.update_layout(xaxis_rangeslider_visible=False)\n",
    "    fig.show()\n",
    "    return\n",
    "    "
   ]
  },
  {
   "cell_type": "markdown",
   "id": "2d257aef",
   "metadata": {},
   "source": [
    "## Get BTC and ETH from Yahoo Finance"
   ]
  },
  {
   "cell_type": "code",
   "execution_count": null,
   "id": "d44e51b2",
   "metadata": {
    "ExecuteTime": {
     "end_time": "2021-08-05T16:57:12.052157Z",
     "start_time": "2021-08-05T16:57:10.443339Z"
    }
   },
   "outputs": [],
   "source": [
    "btc = yf.Ticker(\"BTC-USD\")\n",
    "eth = yf.Ticker(\"ETH-USD\")\n",
    "\n",
    "BTC = btc.history(period=\"max\")[['Open','High','Low','Close','Volume']]\n",
    "ETH = eth.history(period=\"max\")[['Open','High','Low','Close','Volume']]\n"
   ]
  },
  {
   "cell_type": "markdown",
   "id": "0692ce67",
   "metadata": {},
   "source": [
    "## Plot BTC"
   ]
  },
  {
   "cell_type": "code",
   "execution_count": null,
   "id": "67d12758",
   "metadata": {
    "ExecuteTime": {
     "end_time": "2021-08-05T16:57:12.719665Z",
     "start_time": "2021-08-05T16:57:12.290511Z"
    }
   },
   "outputs": [],
   "source": [
    "start = '2021'\n",
    "end = '2021'\n",
    "Log = False\n",
    "\n",
    "ohlc_plot(BTC,start,end,Log = Log)"
   ]
  },
  {
   "cell_type": "markdown",
   "id": "54af36bf",
   "metadata": {},
   "source": [
    "## Plot ETH"
   ]
  },
  {
   "cell_type": "code",
   "execution_count": null,
   "id": "10a97253",
   "metadata": {
    "ExecuteTime": {
     "end_time": "2021-08-05T16:57:13.159502Z",
     "start_time": "2021-08-05T16:57:13.120606Z"
    }
   },
   "outputs": [],
   "source": [
    "ohlc_plot(ETH,start,end,Log = False)"
   ]
  },
  {
   "cell_type": "markdown",
   "id": "b3eaaced",
   "metadata": {},
   "source": [
    "## Glassnode"
   ]
  },
  {
   "cell_type": "markdown",
   "id": "439077fd",
   "metadata": {},
   "source": [
    "### RHODL\n",
    "The Realized HODL Ratio is a market indicator that uses a ratio of the Realized Cap HODL Waves (https://studio.glassnode.com/metrics?a=BTC&category=&m=supply.RcapHodlWaves). In particular, the RHODL Ratio takes the ratio between the 1 week and the 1-2 years RCap HODL bands. In addition, it accounts for increased supply by weighting the ratio by the total market age. A high ratio is an indication of an overheated market and can be used to time cycle tops. This metric was created by Philip Swift (https://twitter.com/PositiveCrypto). \n"
   ]
  },
  {
   "cell_type": "code",
   "execution_count": null,
   "id": "944b9384",
   "metadata": {
    "ExecuteTime": {
     "end_time": "2021-08-05T16:57:14.718330Z",
     "start_time": "2021-08-05T16:57:13.790815Z"
    }
   },
   "outputs": [],
   "source": [
    "API_KEY = '1vUcyF35hTk9awbNGszF0KcLuYH'\n",
    "\n",
    "res = requests.get('https://api.glassnode.com/v1/metrics/indicators/rhodl_ratio',\n",
    "                   params={'a': 'BTC', 'api_key': API_KEY})\n",
    "\n",
    "rhodl = pd.read_json(res.text, convert_dates=['t'])\n",
    "rhodl.index = rhodl['t']\n",
    "rhodl = rhodl['v']\n",
    "rhodl.sort_index(inplace = True)"
   ]
  },
  {
   "cell_type": "code",
   "execution_count": null,
   "id": "952a713a",
   "metadata": {
    "ExecuteTime": {
     "end_time": "2021-08-05T16:57:15.167964Z",
     "start_time": "2021-08-05T16:57:14.766909Z"
    }
   },
   "outputs": [],
   "source": [
    "BTC_HODL = pd.concat([BTC.Close,rhodl],1).dropna()\n",
    "BTC_HODL.columns = ['btc','rhodl']\n",
    "\n",
    "f,a = plt.subplots(nrows = 2, sharex=True, figsize = (18,10))\n",
    "np.log(BTC_HODL['btc']).plot(ax = a[0])\n",
    "np.log(BTC_HODL['rhodl']).plot(ax = a[1])"
   ]
  },
  {
   "cell_type": "code",
   "execution_count": null,
   "id": "dc428e7f",
   "metadata": {
    "ExecuteTime": {
     "end_time": "2021-08-05T16:57:15.245756Z",
     "start_time": "2021-08-05T16:57:15.230797Z"
    }
   },
   "outputs": [],
   "source": [
    "BTC_HODL['rBTC'] = 100*np.log(BTC.Close).diff().loc[BTC_HODL.index]\n",
    "BTC_HODL['rRhodl'] = 100*np.log(rhodl).diff().loc[BTC_HODL.index]\n",
    "BTC_HODL.dropna(inplace = True)"
   ]
  },
  {
   "cell_type": "markdown",
   "id": "839d14f3",
   "metadata": {},
   "source": [
    "### Daily frequency"
   ]
  },
  {
   "cell_type": "code",
   "execution_count": null,
   "id": "c1a07856",
   "metadata": {
    "ExecuteTime": {
     "end_time": "2021-08-05T16:57:15.702535Z",
     "start_time": "2021-08-05T16:57:15.308622Z"
    }
   },
   "outputs": [],
   "source": [
    "sns.regplot(x=\"rRhodl\", y=\"rBTC\", data=BTC_HODL)"
   ]
  },
  {
   "cell_type": "markdown",
   "id": "888f605d",
   "metadata": {},
   "source": [
    "### Weekly frequency"
   ]
  },
  {
   "cell_type": "code",
   "execution_count": null,
   "id": "fc231159",
   "metadata": {
    "ExecuteTime": {
     "end_time": "2021-08-05T16:57:16.141405Z",
     "start_time": "2021-08-05T16:57:15.766415Z"
    }
   },
   "outputs": [],
   "source": [
    "sns.regplot(x=\"rRhodl\", y=\"rBTC\", data=BTC_HODL[['rBTC','rRhodl']].resample('1W').sum())"
   ]
  },
  {
   "cell_type": "markdown",
   "id": "76ac1a37",
   "metadata": {},
   "source": [
    "### Monthly frequency"
   ]
  },
  {
   "cell_type": "code",
   "execution_count": null,
   "id": "dbc58882",
   "metadata": {
    "ExecuteTime": {
     "end_time": "2021-08-05T16:57:16.543505Z",
     "start_time": "2021-08-05T16:57:16.220371Z"
    }
   },
   "outputs": [],
   "source": [
    "sns.regplot(x=\"rRhodl\", y=\"rBTC\", data=BTC_HODL[['rBTC','rRhodl']].resample('1M').sum())"
   ]
  },
  {
   "cell_type": "markdown",
   "id": "8f7bf83c",
   "metadata": {},
   "source": [
    "## Get Info"
   ]
  },
  {
   "cell_type": "code",
   "execution_count": null,
   "id": "e4349a98",
   "metadata": {
    "ExecuteTime": {
     "end_time": "2021-08-05T16:57:18.018534Z",
     "start_time": "2021-08-05T16:57:17.630792Z"
    }
   },
   "outputs": [],
   "source": [
    "#path = 'https://api.glassnode.com/v2/metrics/endpoints'\n",
    "\n",
    "asset_path = 'https://api.glassnode.com/v1/metrics/assets'\n",
    "\n",
    "assets = requests.get(asset_path,params={'api_key': API_KEY})\n",
    "assets = pd.read_json(assets.text)\n"
   ]
  },
  {
   "cell_type": "code",
   "execution_count": null,
   "id": "c1d59ff0",
   "metadata": {
    "ExecuteTime": {
     "end_time": "2021-08-05T16:57:18.129560Z",
     "start_time": "2021-08-05T16:57:18.114922Z"
    }
   },
   "outputs": [],
   "source": [
    "indicators = {'rhodl_ratio':'rhodl_ratio',\n",
    "              'cvdd':'cvdd',\n",
    "              'balanced_price_usd':'balanced_price_usd',\n",
    "              'hash_ribbon':'hash_ribbon',\n",
    "              'difficulty_ribbon':'difficulty_ribbon',\n",
    "              'difficulty_ribbon_compression':'difficulty_ribbon_compression',\n",
    "              'nvt':'nvt',\n",
    "              'nvts':'nvts',\n",
    "              'velocity':'velocity',\n",
    "              'nvt_entity_adjusted':'nvt_entity_adjusted',\n",
    "              'cdd_supply_adjusted':'cdd_supply_adjusted',\n",
    "              'cdd_supply_adjusted_binary':'cdd_supply_adjusted_binary',\n",
    "              'average_dormancy_supply_adjusted':'average_dormancy_supply_adjusted',\n",
    "              'spent_output_price_distribution_ath':'spent_output_price_distribution_ath',\n",
    "              'spent_output_price_distribution_percent':'spent_output_price_distribution_percent',\n",
    "              'puell_multiple':'puell_multiple',\n",
    "              'sopr_adjusted':'sopr_adjusted',\n",
    "              'reserve_risk':'reserve_risk',\n",
    "              'sopr_less_155':'sopr_less_155',\n",
    "              'sopr_more_155':'sopr_more_155',\n",
    "              'hodler_net_position_change':'hodler_net_position_change',\n",
    "              'hodled_lost_coins':'hodled_lost_coins',\n",
    "              'cyd':'cyd',\n",
    "              'cyd_supply_adjusted':'cyd_supply_adjusted',\n",
    "              'cyd_account_based':'cyd_account_based',\n",
    "              'cyd_account_based_supply_adjusted':'cyd_account_based_supply_adjusted',\n",
    "              'cdd90_age_adjusted':'cdd90_age_adjusted',\n",
    "              'cdd90_account_based_age_adjusted':'cdd90_account_based_age_adjusted',\n",
    "              'sopr':'sopr',\n",
    "              'cdd':'cdd',\n",
    "              'asol':'asol',\n",
    "              'msol':'msol',\n",
    "              'average_dormancy':'average_dormancy',\n",
    "              'liveliness':'liveliness',\n",
    "              'unrealized_profit':'unrealized_profit',\n",
    "              'unrealized_loss':'unrealized_loss',\n",
    "              'net_unrealized_profit_loss':'net_unrealized_profit_loss',\n",
    "              'nupl_less_155':'nupl_less_155',\n",
    "              'nupl_more_155':'nupl_more_155',\n",
    "              'sopr_account_based':'sopr_account_based',\n",
    "              'cdd_account_based':'cdd_account_based',\n",
    "              'asol_account_based':'asol_account_based',\n",
    "              'msol_account_based':'msol_account_based',\n",
    "              'dormancy_account_based':'dormancy_account_based',\n",
    "              'dormancy_flow':'dormancy_flow',\n",
    "              'liveliness_account_based':'liveliness_account_based',\n",
    "              'mvrv_account_based':'mvrv_account_based',\n",
    "              'rcap_account_based':'rcap_account_based',\n",
    "              'unrealized_profit_account_based':'unrealized_profit_account_based',\n",
    "              'unrealized_loss_account_based':'unrealized_loss_account_based',\n",
    "              'net_unrealized_profit_loss_account_based':'net_unrealized_profit_loss_account_based',\n",
    "              'nupl_less_155_account_based':'nupl_less_155_account_based',\n",
    "              'nupl_more_155_account_based':'nupl_more_155_account_based',\n",
    "              'net_realized_profit_loss':'net_realized_profit_loss',\n",
    "              'realized_profit_loss_ratio':'realized_profit_loss_ratio',\n",
    "              'stock_to_flow_ratio':'stock_to_flow_ratio',\n",
    "              'stock_to_flow_deflection':'stock_to_flow_deflection',\n",
    "              'realized_profit':'realized_profit',\n",
    "              'realized_loss':'realized_loss',\n",
    "              'ssr':'ssr',\n",
    "              'ssr_oscillator':'ssr_oscillator', \n",
    "              'utxo_realized_price_distribution_ath':'utxo_realized_price_distribution_ath',\n",
    "              'utxo_realized_price_distribution_percent':'utxo_realized_price_distribution_percent',\n",
    "              'soab':'Spent Output Age Bands (SOAB) is a bundle of all spent outputs that were created within a specified ageband. Each line represents the percentage of spent outputs that were created within the time period denoted in the legend. ',\n",
    "              'sol_1h':'The total number of spent outputs that were created within the last hour.',\n",
    "              'sol_1h_24h':'The total number of spent outputs that were created between 1h and 24 hours ago',\n",
    "              'sol_1d_1w':'The total number of spent outputs that were created between 1d and 1w ago. ',\n",
    "              'sol_1w_1m':'The total number of spent outputs that were created between 1w and 1m ago.',\n",
    "              'sol_1m_3m':'The total number of spent outputs that were created between 1m and 3m ago. ',\n",
    "              'sol_3m_6m':'The total number of spent outputs that were created between 3m and 6m ago. ', \n",
    "              'sol_6m_12m':'The total number of spent outputs that were created between 6m and 12m ago.',\n",
    "              'sol_1y_2y':'The total number of spent outputs that were created between 1y and 2y ago',\n",
    "              'sol_2y_3y':'The total number of spent outputs that were created between 2y and 3y ago. ',\n",
    "              'sol_3y_5y':'he total number of spent outputs that were created between 3y and 5y ago. ',\n",
    "              'sol_5y_7y':'The total number of spent outputs that were created between 5y and 7y ago. ',\n",
    "              'sol_7y_10y':'The total number of spent outputs that were created between 7y and 10y ago.',\n",
    "              'sol_more_10y':'The total number of spent outputs that were created more than 10 years ago.'}\n",
    " "
   ]
  },
  {
   "cell_type": "code",
   "execution_count": null,
   "id": "e53f2e13",
   "metadata": {
    "ExecuteTime": {
     "end_time": "2021-08-05T16:57:52.681493Z",
     "start_time": "2021-08-05T16:57:18.635450Z"
    }
   },
   "outputs": [],
   "source": [
    "\n",
    "df_indicators = []\n",
    "missing = []\n",
    "\n",
    "for indic in tqdm(list(indicators.keys())):\n",
    "    try:\n",
    "        path = 'https://api.glassnode.com/v1/metrics/indicators/'+indic\n",
    "\n",
    "        res = requests.get(path,params={'a':'BTC','api_key': API_KEY})\n",
    "        res = pd.read_json(res.text,convert_dates=['t'])\n",
    "        res.index = pd.to_datetime(res['t'])\n",
    "        res = res['v']\n",
    "        res.name = indic\n",
    "        df_indicators.append(res)\n",
    "    except:\n",
    "        missing.append(indic)\n",
    "\n",
    "        \n",
    "df = pd.concat(df_indicators,1)"
   ]
  },
  {
   "cell_type": "code",
   "execution_count": null,
   "id": "6d1c179a",
   "metadata": {
    "ExecuteTime": {
     "end_time": "2021-08-05T16:57:52.824524Z",
     "start_time": "2021-08-05T16:57:52.809579Z"
    }
   },
   "outputs": [],
   "source": [
    "missing"
   ]
  },
  {
   "cell_type": "code",
   "execution_count": null,
   "id": "0437e2d4",
   "metadata": {
    "ExecuteTime": {
     "end_time": "2021-08-05T16:58:18.584632Z",
     "start_time": "2021-08-05T16:58:17.135402Z"
    }
   },
   "outputs": [],
   "source": [
    "path = 'https://api.glassnode.com/v1/metrics/indicators/'+'asol'\n",
    "res = requests.get(path,params={'a':'BTC','api_key': API_KEY})\n",
    "df = pd.read_json(res.text, lines=True)\n"
   ]
  },
  {
   "cell_type": "code",
   "execution_count": null,
   "id": "ed41b481",
   "metadata": {
    "ExecuteTime": {
     "end_time": "2021-08-05T16:58:20.772128Z",
     "start_time": "2021-08-05T16:58:19.986225Z"
    }
   },
   "outputs": [],
   "source": [
    "df = pd.read_json(res.text, lines=True)\n"
   ]
  },
  {
   "cell_type": "code",
   "execution_count": null,
   "id": "72081baa",
   "metadata": {
    "ExecuteTime": {
     "end_time": "2021-08-05T16:58:21.878393Z",
     "start_time": "2021-08-05T16:58:21.847476Z"
    }
   },
   "outputs": [],
   "source": [
    "df"
   ]
  },
  {
   "cell_type": "code",
   "execution_count": null,
   "id": "1542865d",
   "metadata": {
    "ExecuteTime": {
     "end_time": "2021-08-05T16:58:28.382931Z",
     "start_time": "2021-08-05T16:58:28.371986Z"
    }
   },
   "outputs": [],
   "source": [
    "df.loc[0,4155]"
   ]
  },
  {
   "cell_type": "code",
   "execution_count": null,
   "id": "1cf600f5",
   "metadata": {
    "ExecuteTime": {
     "end_time": "2021-08-05T16:57:53.683641Z",
     "start_time": "2021-08-05T16:57:25.593Z"
    }
   },
   "outputs": [],
   "source": [
    "df.loc[0,4155]"
   ]
  },
  {
   "cell_type": "code",
   "execution_count": null,
   "id": "ae645558",
   "metadata": {
    "ExecuteTime": {
     "end_time": "2021-08-05T17:00:14.909853Z",
     "start_time": "2021-08-05T17:00:14.902871Z"
    }
   },
   "outputs": [],
   "source": [
    "pd.to_datetime(df.loc[0,4222]['t'],unit = 's')"
   ]
  },
  {
   "cell_type": "code",
   "execution_count": null,
   "id": "4ca2840f",
   "metadata": {},
   "outputs": [],
   "source": []
  }
 ],
 "metadata": {
  "kernelspec": {
   "display_name": "Python 3 (ipykernel)",
   "language": "python",
   "name": "python3"
  },
  "language_info": {
   "codemirror_mode": {
    "name": "ipython",
    "version": 3
   },
   "file_extension": ".py",
   "mimetype": "text/x-python",
   "name": "python",
   "nbconvert_exporter": "python",
   "pygments_lexer": "ipython3",
   "version": "3.8.10"
  },
  "varInspector": {
   "cols": {
    "lenName": 16,
    "lenType": 16,
    "lenVar": 40
   },
   "kernels_config": {
    "python": {
     "delete_cmd_postfix": "",
     "delete_cmd_prefix": "del ",
     "library": "var_list.py",
     "varRefreshCmd": "print(var_dic_list())"
    },
    "r": {
     "delete_cmd_postfix": ") ",
     "delete_cmd_prefix": "rm(",
     "library": "var_list.r",
     "varRefreshCmd": "cat(var_dic_list()) "
    }
   },
   "types_to_exclude": [
    "module",
    "function",
    "builtin_function_or_method",
    "instance",
    "_Feature"
   ],
   "window_display": false
  }
 },
 "nbformat": 4,
 "nbformat_minor": 5
}
