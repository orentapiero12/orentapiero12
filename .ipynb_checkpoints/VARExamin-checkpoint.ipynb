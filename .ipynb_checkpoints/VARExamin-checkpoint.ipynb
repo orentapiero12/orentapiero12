{
 "cells": [
  {
   "cell_type": "code",
   "execution_count": 1,
   "id": "db0b3de1",
   "metadata": {
    "ExecuteTime": {
     "end_time": "2021-09-14T09:48:52.479221Z",
     "start_time": "2021-09-14T09:48:52.110261Z"
    }
   },
   "outputs": [],
   "source": [
    "import numpy as np\n",
    "import pandas as pd \n",
    "import statsmodels.api as sm\n",
    "import pickle\n",
    "\n",
    "from tqdm import tqdm\n",
    "from statsmodels.tsa.api import VAR"
   ]
  },
  {
   "cell_type": "code",
   "execution_count": null,
   "id": "d7ca8973",
   "metadata": {},
   "outputs": [],
   "source": [
    "period = pd.offsets.CustomBusinessDay(weekmask=\"Mon Tue Wed Thu Fri Sun\")\n",
    "majors = ['eurusd','gbpusd','audusd','nzdusd','usdcad','usdchf','usdjpy']"
   ]
  },
  {
   "cell_type": "code",
   "execution_count": 2,
   "id": "b49d5064",
   "metadata": {
    "ExecuteTime": {
     "end_time": "2021-09-14T09:48:53.525276Z",
     "start_time": "2021-09-14T09:48:52.904082Z"
    }
   },
   "outputs": [],
   "source": [
    "with open('/Users/orentapiero/Data/Mid5T.pickle', 'rb') as handle:\n",
    "    Mid = pickle.load(handle)\n",
    "    \n",
    "with open('/Users/orentapiero/Data/Bid5T.pickle', 'rb') as handle:\n",
    "    Bid = pickle.load(handle)\n",
    "\n",
    "with open('/Users/orentapiero/Data/Ask5T.pickle', 'rb') as handle:\n",
    "    Ask = pickle.load(handle)\n",
    "    \n",
    "majors = ['eurusd','gbpusd','audusd','nzdusd','usdcad','usdchf','usdjpy']\n",
    "\n",
    "Daily_Open = []\n",
    "Daily_Close = []\n",
    "\n",
    "for pair in Mid.keys():\n",
    "    daily_open = Mid[pair]['open'].resample(period,label = 'right',closed = 'right').first()\n",
    "    daily_close = Mid[pair]['close'].resample(period,label = 'right',closed = 'right').last()\n",
    "    daily_open.name,daily_close.name = pair,pair\n",
    "    \n",
    "    Daily_Open.append(daily_open)\n",
    "    Daily_Close.append(daily_close)\n",
    "    \n",
    "Daily_Open = pd.concat(Daily_Open, axis = 1)\n",
    "Daily_Close = pd.concat(Daily_Close, axis = 1)\n",
    "\n",
    "Daily_Ret = 10000*np.log(Daily_Close/Daily_Open)"
   ]
  },
  {
   "cell_type": "code",
   "execution_count": 3,
   "id": "b3a59892",
   "metadata": {
    "ExecuteTime": {
     "end_time": "2021-09-14T09:48:54.088735Z",
     "start_time": "2021-09-14T09:48:53.981740Z"
    }
   },
   "outputs": [
    {
     "ename": "KeyError",
     "evalue": "\"['eurgbp'] not in index\"",
     "output_type": "error",
     "traceback": [
      "\u001b[0;31m---------------------------------------------------------------------------\u001b[0m",
      "\u001b[0;31mKeyError\u001b[0m                                  Traceback (most recent call last)",
      "\u001b[0;32m/var/folders/cv/q7xmbt212b9gcflsx_g23cch0000gn/T/ipykernel_1233/506045278.py\u001b[0m in \u001b[0;36m<module>\u001b[0;34m\u001b[0m\n\u001b[1;32m     27\u001b[0m     \u001b[0;32mreturn\u001b[0m \u001b[0mpd\u001b[0m\u001b[0;34m.\u001b[0m\u001b[0mDataFrame\u001b[0m\u001b[0;34m(\u001b[0m\u001b[0mout\u001b[0m\u001b[0;34m)\u001b[0m\u001b[0;34m\u001b[0m\u001b[0;34m\u001b[0m\u001b[0m\n\u001b[1;32m     28\u001b[0m \u001b[0;34m\u001b[0m\u001b[0m\n\u001b[0;32m---> 29\u001b[0;31m \u001b[0mwho_is_dominant\u001b[0m \u001b[0;34m=\u001b[0m \u001b[0mcross_analysis\u001b[0m\u001b[0;34m(\u001b[0m\u001b[0mDaily_Ret\u001b[0m\u001b[0;34m.\u001b[0m\u001b[0mloc\u001b[0m\u001b[0;34m[\u001b[0m\u001b[0;34m'2014'\u001b[0m\u001b[0;34m]\u001b[0m\u001b[0;34m)\u001b[0m\u001b[0;34m\u001b[0m\u001b[0;34m\u001b[0m\u001b[0m\n\u001b[0m",
      "\u001b[0;32m/var/folders/cv/q7xmbt212b9gcflsx_g23cch0000gn/T/ipykernel_1233/506045278.py\u001b[0m in \u001b[0;36mcross_analysis\u001b[0;34m(returns)\u001b[0m\n\u001b[1;32m     15\u001b[0m             \u001b[0mbase\u001b[0m \u001b[0;34m=\u001b[0m \u001b[0musd\u001b[0m\u001b[0;34m[\u001b[0m\u001b[0mpair\u001b[0m\u001b[0;34m[\u001b[0m\u001b[0;34m:\u001b[0m\u001b[0;36m3\u001b[0m\u001b[0;34m]\u001b[0m\u001b[0;34m]\u001b[0m\u001b[0;34m\u001b[0m\u001b[0;34m\u001b[0m\u001b[0m\n\u001b[1;32m     16\u001b[0m             \u001b[0mquote\u001b[0m \u001b[0;34m=\u001b[0m \u001b[0musd\u001b[0m\u001b[0;34m[\u001b[0m\u001b[0mpair\u001b[0m\u001b[0;34m[\u001b[0m\u001b[0;36m3\u001b[0m\u001b[0;34m:\u001b[0m\u001b[0;34m]\u001b[0m\u001b[0;34m]\u001b[0m\u001b[0;34m\u001b[0m\u001b[0;34m\u001b[0m\u001b[0m\n\u001b[0;32m---> 17\u001b[0;31m             \u001b[0mrho\u001b[0m \u001b[0;34m=\u001b[0m \u001b[0mreturns\u001b[0m\u001b[0;34m[\u001b[0m\u001b[0;34m[\u001b[0m\u001b[0mpair\u001b[0m\u001b[0;34m,\u001b[0m\u001b[0mbase\u001b[0m\u001b[0;34m,\u001b[0m\u001b[0mquote\u001b[0m\u001b[0;34m]\u001b[0m\u001b[0;34m]\u001b[0m\u001b[0;34m.\u001b[0m\u001b[0mcorr\u001b[0m\u001b[0;34m(\u001b[0m\u001b[0;34m)\u001b[0m\u001b[0;34m\u001b[0m\u001b[0;34m\u001b[0m\u001b[0m\n\u001b[0m\u001b[1;32m     18\u001b[0m \u001b[0;34m\u001b[0m\u001b[0m\n\u001b[1;32m     19\u001b[0m             \u001b[0mrho_base\u001b[0m \u001b[0;34m=\u001b[0m \u001b[0mrho\u001b[0m\u001b[0;34m.\u001b[0m\u001b[0mloc\u001b[0m\u001b[0;34m[\u001b[0m\u001b[0mpair\u001b[0m\u001b[0;34m]\u001b[0m\u001b[0;34m[\u001b[0m\u001b[0mbase\u001b[0m\u001b[0;34m]\u001b[0m\u001b[0;34m\u001b[0m\u001b[0;34m\u001b[0m\u001b[0m\n",
      "\u001b[0;32m~/miniforge3/envs/tensorenv/lib/python3.8/site-packages/pandas/core/frame.py\u001b[0m in \u001b[0;36m__getitem__\u001b[0;34m(self, key)\u001b[0m\n\u001b[1;32m   3459\u001b[0m             \u001b[0;32mif\u001b[0m \u001b[0mis_iterator\u001b[0m\u001b[0;34m(\u001b[0m\u001b[0mkey\u001b[0m\u001b[0;34m)\u001b[0m\u001b[0;34m:\u001b[0m\u001b[0;34m\u001b[0m\u001b[0;34m\u001b[0m\u001b[0m\n\u001b[1;32m   3460\u001b[0m                 \u001b[0mkey\u001b[0m \u001b[0;34m=\u001b[0m \u001b[0mlist\u001b[0m\u001b[0;34m(\u001b[0m\u001b[0mkey\u001b[0m\u001b[0;34m)\u001b[0m\u001b[0;34m\u001b[0m\u001b[0;34m\u001b[0m\u001b[0m\n\u001b[0;32m-> 3461\u001b[0;31m             \u001b[0mindexer\u001b[0m \u001b[0;34m=\u001b[0m \u001b[0mself\u001b[0m\u001b[0;34m.\u001b[0m\u001b[0mloc\u001b[0m\u001b[0;34m.\u001b[0m\u001b[0m_get_listlike_indexer\u001b[0m\u001b[0;34m(\u001b[0m\u001b[0mkey\u001b[0m\u001b[0;34m,\u001b[0m \u001b[0maxis\u001b[0m\u001b[0;34m=\u001b[0m\u001b[0;36m1\u001b[0m\u001b[0;34m)\u001b[0m\u001b[0;34m[\u001b[0m\u001b[0;36m1\u001b[0m\u001b[0;34m]\u001b[0m\u001b[0;34m\u001b[0m\u001b[0;34m\u001b[0m\u001b[0m\n\u001b[0m\u001b[1;32m   3462\u001b[0m \u001b[0;34m\u001b[0m\u001b[0m\n\u001b[1;32m   3463\u001b[0m         \u001b[0;31m# take() does not accept boolean indexers\u001b[0m\u001b[0;34m\u001b[0m\u001b[0;34m\u001b[0m\u001b[0;34m\u001b[0m\u001b[0m\n",
      "\u001b[0;32m~/miniforge3/envs/tensorenv/lib/python3.8/site-packages/pandas/core/indexing.py\u001b[0m in \u001b[0;36m_get_listlike_indexer\u001b[0;34m(self, key, axis)\u001b[0m\n\u001b[1;32m   1312\u001b[0m             \u001b[0mkeyarr\u001b[0m\u001b[0;34m,\u001b[0m \u001b[0mindexer\u001b[0m\u001b[0;34m,\u001b[0m \u001b[0mnew_indexer\u001b[0m \u001b[0;34m=\u001b[0m \u001b[0max\u001b[0m\u001b[0;34m.\u001b[0m\u001b[0m_reindex_non_unique\u001b[0m\u001b[0;34m(\u001b[0m\u001b[0mkeyarr\u001b[0m\u001b[0;34m)\u001b[0m\u001b[0;34m\u001b[0m\u001b[0;34m\u001b[0m\u001b[0m\n\u001b[1;32m   1313\u001b[0m \u001b[0;34m\u001b[0m\u001b[0m\n\u001b[0;32m-> 1314\u001b[0;31m         \u001b[0mself\u001b[0m\u001b[0;34m.\u001b[0m\u001b[0m_validate_read_indexer\u001b[0m\u001b[0;34m(\u001b[0m\u001b[0mkeyarr\u001b[0m\u001b[0;34m,\u001b[0m \u001b[0mindexer\u001b[0m\u001b[0;34m,\u001b[0m \u001b[0maxis\u001b[0m\u001b[0;34m)\u001b[0m\u001b[0;34m\u001b[0m\u001b[0;34m\u001b[0m\u001b[0m\n\u001b[0m\u001b[1;32m   1315\u001b[0m \u001b[0;34m\u001b[0m\u001b[0m\n\u001b[1;32m   1316\u001b[0m         if needs_i8_conversion(ax.dtype) or isinstance(\n",
      "\u001b[0;32m~/miniforge3/envs/tensorenv/lib/python3.8/site-packages/pandas/core/indexing.py\u001b[0m in \u001b[0;36m_validate_read_indexer\u001b[0;34m(self, key, indexer, axis)\u001b[0m\n\u001b[1;32m   1375\u001b[0m \u001b[0;34m\u001b[0m\u001b[0m\n\u001b[1;32m   1376\u001b[0m             \u001b[0mnot_found\u001b[0m \u001b[0;34m=\u001b[0m \u001b[0mlist\u001b[0m\u001b[0;34m(\u001b[0m\u001b[0mensure_index\u001b[0m\u001b[0;34m(\u001b[0m\u001b[0mkey\u001b[0m\u001b[0;34m)\u001b[0m\u001b[0;34m[\u001b[0m\u001b[0mmissing_mask\u001b[0m\u001b[0;34m.\u001b[0m\u001b[0mnonzero\u001b[0m\u001b[0;34m(\u001b[0m\u001b[0;34m)\u001b[0m\u001b[0;34m[\u001b[0m\u001b[0;36m0\u001b[0m\u001b[0;34m]\u001b[0m\u001b[0;34m]\u001b[0m\u001b[0;34m.\u001b[0m\u001b[0munique\u001b[0m\u001b[0;34m(\u001b[0m\u001b[0;34m)\u001b[0m\u001b[0;34m)\u001b[0m\u001b[0;34m\u001b[0m\u001b[0;34m\u001b[0m\u001b[0m\n\u001b[0;32m-> 1377\u001b[0;31m             \u001b[0;32mraise\u001b[0m \u001b[0mKeyError\u001b[0m\u001b[0;34m(\u001b[0m\u001b[0;34mf\"{not_found} not in index\"\u001b[0m\u001b[0;34m)\u001b[0m\u001b[0;34m\u001b[0m\u001b[0;34m\u001b[0m\u001b[0m\n\u001b[0m\u001b[1;32m   1378\u001b[0m \u001b[0;34m\u001b[0m\u001b[0m\n\u001b[1;32m   1379\u001b[0m \u001b[0;34m\u001b[0m\u001b[0m\n",
      "\u001b[0;31mKeyError\u001b[0m: \"['eurgbp'] not in index\""
     ]
    }
   ],
   "source": [
    "def cross_analysis(returns):\n",
    "    majors = ['eurusd','gbpusd','audusd','nzdusd','usdcad','usdchf','usdjpy']\n",
    "\n",
    "    usd = {'eur':'eurusd',\n",
    "           'gbp':'gbpusd',\n",
    "           'aud':'audusd',\n",
    "           'nzd':'nzdusd',\n",
    "           'cad':'usdcad',\n",
    "           'chf':'usdchf',\n",
    "           'jpy':'usdjpy'}\n",
    "\n",
    "    out = []\n",
    "    for pair in Mid.keys():\n",
    "        if pair not in majors:\n",
    "            base = usd[pair[:3]]\n",
    "            quote = usd[pair[3:]]\n",
    "            rho = returns[[pair,base,quote]].corr()\n",
    "\n",
    "            rho_base = rho.loc[pair][base]\n",
    "            rho_quote = rho.loc[pair][quote]\n",
    "\n",
    "            if np.abs(rho_base) > np.abs(rho_quote):\n",
    "                out.append({'pair':pair,'dominant':base,'status':'base'})\n",
    "            else:\n",
    "                out.append({'pair':pair,'dominant':quote,'status':'quote'})\n",
    "\n",
    "    return pd.DataFrame(out)\n",
    "\n",
    "who_is_dominant = cross_analysis(Daily_Ret.loc['2014'])"
   ]
  },
  {
   "cell_type": "code",
   "execution_count": null,
   "id": "cdb7246b",
   "metadata": {},
   "outputs": [],
   "source": []
  },
  {
   "cell_type": "code",
   "execution_count": null,
   "id": "45fae16f",
   "metadata": {},
   "outputs": [],
   "source": []
  },
  {
   "cell_type": "code",
   "execution_count": null,
   "id": "f3c7e069",
   "metadata": {
    "ExecuteTime": {
     "end_time": "2021-09-14T08:10:57.786314Z",
     "start_time": "2021-09-14T08:10:55.624901Z"
    }
   },
   "outputs": [],
   "source": [
    "pairs = ['eurusd','gbpusd','audusd','nzdusd','usdcad','usdchf','usdjpy']\n",
    "\n",
    "N = len(Daily_Ret)\n",
    "\n",
    "Sum = []\n",
    "Mean = []\n",
    "Max = []\n",
    "Min = []\n",
    "\n",
    "L = 252\n",
    "for i in tqdm(range(L,N-L)):\n",
    "    try:\n",
    "        y = Daily_Ret[pairs].iloc[i-L:i]\n",
    "        model = VAR(y)\n",
    "        results = model.fit(maxlags = 1)\n",
    "\n",
    "        summation = pd.DataFrame(results.forecast(y.values,6),columns = y.columns).sum()\n",
    "        average = pd.DataFrame(results.forecast(y.values,6),columns = y.columns).mean()\n",
    "        maximization = pd.DataFrame(results.forecast(y.values,6),columns = y.columns).max()\n",
    "        minimization = pd.DataFrame(results.forecast(y.values,6),columns = y.columns).min()\n",
    "\n",
    "        summation.name = y.index[-1].strftime('%Y-%m-%d')\n",
    "        average.name = y.index[-1].strftime('%Y-%m-%d')\n",
    "        maximization.name = y.index[-1].strftime('%Y-%m-%d')\n",
    "        minimization.name = y.index[-1].strftime('%Y-%m-%d')\n",
    "\n",
    "        Sum.append(summation)\n",
    "        Mean.append(average)\n",
    "        Max.append(maximization)\n",
    "        Min.append(minimization)\n",
    "    except:\n",
    "        pass\n"
   ]
  },
  {
   "cell_type": "code",
   "execution_count": null,
   "id": "50373f63",
   "metadata": {
    "ExecuteTime": {
     "end_time": "2021-09-14T08:11:05.639504Z",
     "start_time": "2021-09-14T08:11:05.500614Z"
    }
   },
   "outputs": [],
   "source": [
    "Sum = pd.concat(Sum,axis = 1).T\n",
    "Mean = pd.concat(Mean,axis = 1).T\n",
    "Max = pd.concat(Max,axis = 1).T\n",
    "Min = pd.concat(Min,axis = 1).T"
   ]
  },
  {
   "cell_type": "code",
   "execution_count": null,
   "id": "973cf35b",
   "metadata": {
    "ExecuteTime": {
     "end_time": "2021-09-14T08:11:10.191373Z",
     "start_time": "2021-09-14T08:11:10.175119Z"
    }
   },
   "outputs": [],
   "source": [
    "Max.max()"
   ]
  },
  {
   "cell_type": "code",
   "execution_count": null,
   "id": "0793c04b",
   "metadata": {},
   "outputs": [],
   "source": []
  }
 ],
 "metadata": {
  "kernelspec": {
   "display_name": "Python 3.8.10 64-bit ('tensorenv': conda)",
   "language": "python",
   "name": "python3810jvsc74a57bd0dcde5faee8b385ecec096869b2a4aa0a7dae93516ac2ea162297a4c24d713520"
  },
  "language_info": {
   "codemirror_mode": {
    "name": "ipython",
    "version": 3
   },
   "file_extension": ".py",
   "mimetype": "text/x-python",
   "name": "python",
   "nbconvert_exporter": "python",
   "pygments_lexer": "ipython3",
   "version": "3.8.10"
  },
  "varInspector": {
   "cols": {
    "lenName": 16,
    "lenType": 16,
    "lenVar": 40
   },
   "kernels_config": {
    "python": {
     "delete_cmd_postfix": "",
     "delete_cmd_prefix": "del ",
     "library": "var_list.py",
     "varRefreshCmd": "print(var_dic_list())"
    },
    "r": {
     "delete_cmd_postfix": ") ",
     "delete_cmd_prefix": "rm(",
     "library": "var_list.r",
     "varRefreshCmd": "cat(var_dic_list()) "
    }
   },
   "types_to_exclude": [
    "module",
    "function",
    "builtin_function_or_method",
    "instance",
    "_Feature"
   ],
   "window_display": false
  }
 },
 "nbformat": 4,
 "nbformat_minor": 5
}
