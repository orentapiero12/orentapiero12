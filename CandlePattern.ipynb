{
 "cells": [
  {
   "cell_type": "code",
   "execution_count": 1,
   "id": "480c7f0d",
   "metadata": {},
   "outputs": [],
   "source": [
    "import pandas as pd\n",
    "import numpy as np\n",
    "import matplotlib.pyplot as plt\n",
    "import seaborn as sns\n",
    "import talib as ta\n",
    "import yfinance as yf\n",
    "\n",
    "sns.set()"
   ]
  },
  {
   "cell_type": "code",
   "execution_count": 2,
   "id": "da369b47",
   "metadata": {},
   "outputs": [],
   "source": [
    "def fwd_return(Px,L):\n",
    "    fwd = Px.shift(-L)\n",
    "    ret = 10000*np.log(fwd/Px)\n",
    "    ret.name = 'F'+str(L)+'ret'\n",
    "    return ret\n",
    "\n",
    "def ta_pattern_fit(hist,L,candle_pattern):\n",
    "    expression = 'ta.'+candle_pattern+'(hist.Open,hist.High,hist.Low,hist.Close)'\n",
    "    patt = eval(expression)\n",
    "    patt.name = candle_pattern\n",
    "    Fret = fwd_return(hist['Close'],L)\n",
    "    df = pd.concat([patt,Fret],axis = 1).dropna()\n",
    "    \n",
    "    avg = df.groupby(candle_pattern)[Fret.name].agg({'mean','std','count'})\n",
    "    \n",
    "    Npos = df.groupby(candle_pattern)[Fret.name].apply(lambda x: x[x>0].count())\n",
    "    Npos.name = 'Npos'\n",
    "    \n",
    "    AW = df.groupby(candle_pattern)[Fret.name].apply(lambda x: x[x>0].mean())\n",
    "    AL = df.groupby(candle_pattern)[Fret.name].apply(lambda x: x[x<0].mean())\n",
    "    \n",
    "    AW.name = 'AW'\n",
    "    AL.name = 'AL'\n",
    "    \n",
    "    summary = pd.concat([avg,Npos,AW,AL],axis = 1)\n",
    "    summary['hit_ratio'] = summary['Npos']/summary['count']\n",
    "    \n",
    "    return summary\n",
    "    \n",
    "    "
   ]
  },
  {
   "cell_type": "code",
   "execution_count": 37,
   "id": "c66d4998",
   "metadata": {},
   "outputs": [],
   "source": [
    "ticker = yf.Ticker(\"GBPUSD=X\")\n",
    "hist = ticker.history(period=\"max\")"
   ]
  },
  {
   "cell_type": "code",
   "execution_count": 46,
   "id": "2c0b75f7",
   "metadata": {},
   "outputs": [],
   "source": [
    "L = 5\n",
    "candle_pattern = 'CDLRICKSHAWMAN'"
   ]
  },
  {
   "cell_type": "code",
   "execution_count": 51,
   "id": "8f0df1be",
   "metadata": {},
   "outputs": [
    {
     "data": {
      "text/html": [
       "<div>\n",
       "<style scoped>\n",
       "    .dataframe tbody tr th:only-of-type {\n",
       "        vertical-align: middle;\n",
       "    }\n",
       "\n",
       "    .dataframe tbody tr th {\n",
       "        vertical-align: top;\n",
       "    }\n",
       "\n",
       "    .dataframe thead th {\n",
       "        text-align: right;\n",
       "    }\n",
       "</style>\n",
       "<table border=\"1\" class=\"dataframe\">\n",
       "  <thead>\n",
       "    <tr style=\"text-align: right;\">\n",
       "      <th></th>\n",
       "      <th>mean</th>\n",
       "      <th>count</th>\n",
       "      <th>std</th>\n",
       "      <th>Npos</th>\n",
       "      <th>AW</th>\n",
       "      <th>AL</th>\n",
       "      <th>hit_ratio</th>\n",
       "    </tr>\n",
       "    <tr>\n",
       "      <th>CDLRICKSHAWMAN</th>\n",
       "      <th></th>\n",
       "      <th></th>\n",
       "      <th></th>\n",
       "      <th></th>\n",
       "      <th></th>\n",
       "      <th></th>\n",
       "      <th></th>\n",
       "    </tr>\n",
       "  </thead>\n",
       "  <tbody>\n",
       "    <tr>\n",
       "      <th>0</th>\n",
       "      <td>-9.595720</td>\n",
       "      <td>163</td>\n",
       "      <td>202.668125</td>\n",
       "      <td>83</td>\n",
       "      <td>118.494045</td>\n",
       "      <td>-142.488851</td>\n",
       "      <td>0.509202</td>\n",
       "    </tr>\n",
       "    <tr>\n",
       "      <th>100</th>\n",
       "      <td>31.013334</td>\n",
       "      <td>94</td>\n",
       "      <td>149.572353</td>\n",
       "      <td>58</td>\n",
       "      <td>109.089749</td>\n",
       "      <td>-97.484344</td>\n",
       "      <td>0.617021</td>\n",
       "    </tr>\n",
       "  </tbody>\n",
       "</table>\n",
       "</div>"
      ],
      "text/plain": [
       "                     mean  count         std  Npos          AW          AL  \\\n",
       "CDLRICKSHAWMAN                                                               \n",
       "0               -9.595720    163  202.668125    83  118.494045 -142.488851   \n",
       "100             31.013334     94  149.572353    58  109.089749  -97.484344   \n",
       "\n",
       "                hit_ratio  \n",
       "CDLRICKSHAWMAN             \n",
       "0                0.509202  \n",
       "100              0.617021  "
      ]
     },
     "metadata": {},
     "output_type": "display_data"
    }
   ],
   "source": [
    "Px = hist['Close']\n",
    "summary = ta_pattern_fit(hist.loc['2020'],L,candle_pattern)\n",
    "\n",
    "display(summary)"
   ]
  },
  {
   "cell_type": "code",
   "execution_count": null,
   "id": "044c63d0",
   "metadata": {},
   "outputs": [],
   "source": []
  },
  {
   "cell_type": "code",
   "execution_count": null,
   "id": "59554925",
   "metadata": {},
   "outputs": [],
   "source": []
  }
 ],
 "metadata": {
  "kernelspec": {
   "display_name": "Python 3 (ipykernel)",
   "language": "python",
   "name": "python3"
  },
  "language_info": {
   "codemirror_mode": {
    "name": "ipython",
    "version": 3
   },
   "file_extension": ".py",
   "mimetype": "text/x-python",
   "name": "python",
   "nbconvert_exporter": "python",
   "pygments_lexer": "ipython3",
   "version": "3.8.10"
  }
 },
 "nbformat": 4,
 "nbformat_minor": 5
}
