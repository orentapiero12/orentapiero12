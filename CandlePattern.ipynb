{
 "cells": [
  {
   "cell_type": "code",
   "execution_count": 2,
   "source": [
    "import pandas as pd\n",
    "import numpy as np\n",
    "import matplotlib.pyplot as plt\n",
    "import seaborn as sns\n",
    "import talib as ta\n",
    "import yfinance as yf\n",
    "\n",
    "sns.set()"
   ],
   "outputs": [],
   "metadata": {}
  },
  {
   "cell_type": "code",
   "execution_count": 3,
   "source": [
    "def fwd_return(Px,L):\n",
    "    fwd = Px.shift(-L)\n",
    "    ret = 10000*np.log(fwd/Px)\n",
    "    ret.name = 'F'+str(L)+'ret'\n",
    "    return ret\n",
    "\n",
    "def ta_pattern_fit(hist,L,candle_pattern):\n",
    "    expression = 'ta.'+candle_pattern+'(hist.Open,hist.High,hist.Low,hist.Close)'\n",
    "    patt = eval(expression)\n",
    "    patt.name = candle_pattern\n",
    "    Fret = fwd_return(hist['Close'],L)\n",
    "    df = pd.concat([patt,Fret],axis = 1).dropna()\n",
    "    \n",
    "    avg = df.groupby(candle_pattern)[Fret.name].agg({'mean','std','count'})\n",
    "    \n",
    "    Npos = df.groupby(candle_pattern)[Fret.name].apply(lambda x: x[x>0].count())\n",
    "    Npos.name = 'Npos'\n",
    "    \n",
    "    AW = df.groupby(candle_pattern)[Fret.name].apply(lambda x: x[x>0].mean())\n",
    "    AL = df.groupby(candle_pattern)[Fret.name].apply(lambda x: x[x<0].mean())\n",
    "    \n",
    "    AW.name = 'AW'\n",
    "    AL.name = 'AL'\n",
    "    \n",
    "    summary = pd.concat([avg,Npos,AW,AL],axis = 1)\n",
    "    summary['hit_ratio'] = summary['Npos']/summary['count']\n",
    "    \n",
    "    return summary\n",
    "    \n",
    "    "
   ],
   "outputs": [],
   "metadata": {}
  },
  {
   "cell_type": "code",
   "execution_count": 6,
   "source": [
    "ticker = yf.Ticker(\"GBPUSD=X\")\n",
    "hist = ticker.history(period=\"max\")"
   ],
   "outputs": [],
   "metadata": {}
  },
  {
   "cell_type": "code",
   "execution_count": 9,
   "source": [
    "L = 3\n",
    "candle_pattern = 'CDLRICKSHAWMAN'"
   ],
   "outputs": [],
   "metadata": {}
  },
  {
   "cell_type": "code",
   "execution_count": 10,
   "source": [
    "Px = hist['Close']\n",
    "summary = ta_pattern_fit(hist.loc['2020'],L,candle_pattern)\n",
    "\n",
    "display(summary)"
   ],
   "outputs": [
    {
     "output_type": "display_data",
     "data": {
      "text/plain": [
       "                     mean  count         std  Npos          AW          AL  \\\n",
       "CDLRICKSHAWMAN                                                               \n",
       "0               -6.259743    165  145.319425    77  101.305099 -100.378981   \n",
       "100             18.389806     94  111.478281    53   87.740993  -71.259289   \n",
       "\n",
       "                hit_ratio  \n",
       "CDLRICKSHAWMAN             \n",
       "0                0.466667  \n",
       "100              0.563830  "
      ],
      "text/html": [
       "<div>\n",
       "<style scoped>\n",
       "    .dataframe tbody tr th:only-of-type {\n",
       "        vertical-align: middle;\n",
       "    }\n",
       "\n",
       "    .dataframe tbody tr th {\n",
       "        vertical-align: top;\n",
       "    }\n",
       "\n",
       "    .dataframe thead th {\n",
       "        text-align: right;\n",
       "    }\n",
       "</style>\n",
       "<table border=\"1\" class=\"dataframe\">\n",
       "  <thead>\n",
       "    <tr style=\"text-align: right;\">\n",
       "      <th></th>\n",
       "      <th>mean</th>\n",
       "      <th>count</th>\n",
       "      <th>std</th>\n",
       "      <th>Npos</th>\n",
       "      <th>AW</th>\n",
       "      <th>AL</th>\n",
       "      <th>hit_ratio</th>\n",
       "    </tr>\n",
       "    <tr>\n",
       "      <th>CDLRICKSHAWMAN</th>\n",
       "      <th></th>\n",
       "      <th></th>\n",
       "      <th></th>\n",
       "      <th></th>\n",
       "      <th></th>\n",
       "      <th></th>\n",
       "      <th></th>\n",
       "    </tr>\n",
       "  </thead>\n",
       "  <tbody>\n",
       "    <tr>\n",
       "      <th>0</th>\n",
       "      <td>-6.259743</td>\n",
       "      <td>165</td>\n",
       "      <td>145.319425</td>\n",
       "      <td>77</td>\n",
       "      <td>101.305099</td>\n",
       "      <td>-100.378981</td>\n",
       "      <td>0.466667</td>\n",
       "    </tr>\n",
       "    <tr>\n",
       "      <th>100</th>\n",
       "      <td>18.389806</td>\n",
       "      <td>94</td>\n",
       "      <td>111.478281</td>\n",
       "      <td>53</td>\n",
       "      <td>87.740993</td>\n",
       "      <td>-71.259289</td>\n",
       "      <td>0.563830</td>\n",
       "    </tr>\n",
       "  </tbody>\n",
       "</table>\n",
       "</div>"
      ]
     },
     "metadata": {}
    }
   ],
   "metadata": {}
  },
  {
   "cell_type": "code",
   "execution_count": null,
   "source": [],
   "outputs": [],
   "metadata": {}
  },
  {
   "cell_type": "code",
   "execution_count": null,
   "source": [],
   "outputs": [],
   "metadata": {}
  }
 ],
 "metadata": {
  "kernelspec": {
   "name": "python3",
   "display_name": "Python 3.8.10 64-bit ('tensorenv': conda)"
  },
  "language_info": {
   "codemirror_mode": {
    "name": "ipython",
    "version": 3
   },
   "file_extension": ".py",
   "mimetype": "text/x-python",
   "name": "python",
   "nbconvert_exporter": "python",
   "pygments_lexer": "ipython3",
   "version": "3.8.10"
  },
  "interpreter": {
   "hash": "dcde5faee8b385ecec096869b2a4aa0a7dae93516ac2ea162297a4c24d713520"
  }
 },
 "nbformat": 4,
 "nbformat_minor": 5
}